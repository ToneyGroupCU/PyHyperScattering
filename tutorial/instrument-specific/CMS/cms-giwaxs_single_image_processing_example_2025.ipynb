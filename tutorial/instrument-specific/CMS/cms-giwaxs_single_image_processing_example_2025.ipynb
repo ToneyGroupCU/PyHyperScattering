{
 "cells": [
  {
   "cell_type": "markdown",
   "id": "b3c13da0-ce45-4653-9fb2-5f71078d5a36",
   "metadata": {},
   "source": [
    "# CMS Ex-situ GIWAXS 2025\n",
    "## Raw Data Processing & Exporting Notebook\n",
    "Updated: 05.12.2025\n",
    "- (2025C2): Incorporating pyFAI FiberIntegrator class - replacing pygix as the GI integrator. \n",
    "- (2023C2): In this notebook you output xr.DataSets stored as .zarr stores containing all your raw, remeshed (reciprocal space), and caked CMS GIWAXS data. Saving as a zarr automatically converts the array to a dask array."
   ]
  },
  {
   "cell_type": "code",
   "execution_count": null,
   "id": "890da6d6-cd22-4687-a4e8-1166e36cb22d",
   "metadata": {
    "scrolled": true,
    "tags": []
   },
   "outputs": [],
   "source": [
    "# # Outdated, this used to work to just overwrite existing PyHyper install in JupyterHub conda environment\n",
    "# # If you need a custom PyHyper version install, you may need your own conda environment\n",
    "\n",
    "# # Kernel updates if needed, remember to restart kernel after running this cell!:\n",
    "# !pip install -e /nsls2/users/alevin/repos/PyHyperScattering  # to use pip to install via directory"
   ]
  },
  {
   "cell_type": "markdown",
   "id": "96625ca6-7ec2-4690-bf01-72b422801f76",
   "metadata": {},
   "source": [
    "## Imports"
   ]
  },
  {
   "cell_type": "code",
   "execution_count": null,
   "id": "dd667c0e-baba-4a5d-857a-ca8bd5ce1407",
   "metadata": {},
   "outputs": [],
   "source": [
    "### Imports:\n",
    "import gc, os, sys\n",
    "import pathlib\n",
    "from pathlib import Path\n",
    "import numpy as np\n",
    "import matplotlib.pyplot as plt\n",
    "from matplotlib.colors import LogNorm\n",
    "import xarray as xr\n",
    "from tqdm.auto import tqdm  # progress bar loader!\n",
    "\n",
    "import PyHyperScattering as phs\n",
    "print(f'Using PyHyperScattering Version: {phs.__version__}')"
   ]
  },
  {
   "cell_type": "markdown",
   "id": "a1fafa4c",
   "metadata": {},
   "source": [
    "### Import PFFIGeneralIntegrator Local for Testing"
   ]
  },
  {
   "cell_type": "code",
   "execution_count": null,
   "id": "81c90759",
   "metadata": {},
   "outputs": [],
   "source": [
    "import importlib.util\n",
    "from pathlib import Path\n",
    "import warnings\n",
    "\n",
    "# (optional) mute PyHyperScattering-wide UserWarnings\n",
    "warnings.filterwarnings(\"ignore\",\n",
    "    \".*Unable to load optional dependency.*\",\n",
    "    category=UserWarning,\n",
    "    module=\"PyHyperScattering\"\n",
    ")\n",
    "\n",
    "# Path to your local file\n",
    "file_path = Path(\"/Users/keithwhite/repos/PyHyperScattering/src/\"\n",
    "                 \"PyHyperScattering/PFFIGeneralIntegrator.py\")\n",
    "\n",
    "spec = importlib.util.spec_from_file_location(\"local_pffig\", str(file_path))\n",
    "local_pffig = importlib.util.module_from_spec(spec)\n",
    "spec.loader.exec_module(local_pffig)\n",
    "\n",
    "# Grab the class\n",
    "PFFIGeneralIntegrator = local_pffig.PFFIGeneralIntegrator\n",
    "\n",
    "# Test it\n",
    "print(PFFIGeneralIntegrator)\n"
   ]
  },
  {
   "cell_type": "markdown",
   "id": "7dffa6de-0360-4fcb-b0bf-f320927837d0",
   "metadata": {
    "tags": []
   },
   "source": [
    "## Setup\n",
    "- Define paths to data, calibrant, mask, .poni, etc."
   ]
  },
  {
   "cell_type": "markdown",
   "id": "b36b6f6c-4643-46b3-9784-9a6071c754ba",
   "metadata": {},
   "source": [
    "### Define & Validate Paths\n",
    "- Pathlib is preferred for its readability & checkability, it's also necessary for the loadSeries function later on.\n",
    "- Replace the paths with the ones relevant to your data, you can use the \".exists()\" method to make sure you defined a path correctly.\n",
    "\n"
   ]
  },
  {
   "cell_type": "code",
   "execution_count": null,
   "id": "4b16f850",
   "metadata": {},
   "outputs": [],
   "source": [
    "## Single Sample Example\n",
    "propPath = pathlib.Path('/Users/keithwhite/repos/PyHyperScattering/example_data/cms-giwaxs-test')   ## Proposal path in NSLS-II directory.\n",
    "dataPath = propPath.joinpath('/Users/keithwhite/repos/PyHyperScattering/example_data/cms-giwaxs-test/data')\n",
    "rawPath = dataPath.joinpath('raw')  ## Build /raw/ data subfolder\n",
    "\n",
    "## Multiple Samples \n",
    "# samplesPath = dataPath.joinpath('stitched')\n",
    "maskponiPath = propPath.joinpath('maskponi')  # place for pyhyper-drawn masks and poni files\n",
    "\n",
    "## Output Path\n",
    "outPath = propPath.joinpath('output')\n",
    "\n",
    "## Calibrant Info: Select poni & mask filepaths\n",
    "poniFile = maskponiPath.joinpath('may23_poni4_nslsiimar23_12p7keV_CeO_KWPos_mask5_fit2.poni')\n",
    "# maskFile = maskponiPath.joinpath('blank.json')\n",
    "maskFile = maskponiPath.joinpath('may23_nslsiimar23_12p7keV_AgBh_KWPos_wSi_th0p3_mask_5.edf')\n",
    "# calibPath = rawPath.joinpath('AgBH_cali_5m_12.7kev_x0.000_th0.000_10.00s_1307208_waxs.tiff')\n",
    "\n",
    "## Colormap\n",
    "cmap = plt.cm.turbo\n",
    "cmap.set_bad('black')"
   ]
  },
  {
   "cell_type": "markdown",
   "id": "c1840638-1577-4dea-8819-ffb69d6f80b8",
   "metadata": {},
   "source": [
    "### Look at how your metadata is formatted.\n",
    "- You need to know the format of your metadata so you can define the parsing scheme in the next section."
   ]
  },
  {
   "cell_type": "markdown",
   "id": "a7b5922b",
   "metadata": {},
   "source": [
    "#### Single File Set"
   ]
  },
  {
   "cell_type": "code",
   "execution_count": null,
   "id": "7f012f35",
   "metadata": {},
   "outputs": [],
   "source": [
    "# Parameters\n",
    "samp_delim = 'sam22*'\n",
    "delim = '_'\n",
    "expected_elements = None  # Set this to an integer (e.g. 5) to override\n",
    "\n",
    "# Get all files matching the sample pattern\n",
    "file_list = sorted(rawPath.glob(samp_delim))\n",
    "\n",
    "if file_list:\n",
    "    # Determine reference length\n",
    "    ref_len = expected_elements if expected_elements is not None else len(file_list[0].name.split(delim))\n",
    "    \n",
    "    # Optionally print first file parts\n",
    "    if expected_elements is None:\n",
    "        ref_parts = file_list[0].name.split(delim)\n",
    "        print(\"First file parts:\", ref_parts)\n",
    "    \n",
    "    # Filter files by expected element count\n",
    "    filtered_files = [f for f in file_list if len(f.name.split(delim)) == ref_len]\n",
    "    \n",
    "    print(f\"Filtered files with {ref_len} elements:\")\n",
    "    print([f.name for f in filtered_files])\n",
    "else:\n",
    "    print(\"No matching files found.\")\n"
   ]
  },
  {
   "cell_type": "markdown",
   "id": "6463364b",
   "metadata": {},
   "source": [
    "#### Multiple File Sets"
   ]
  },
  {
   "cell_type": "code",
   "execution_count": null,
   "id": "2616140d-0dca-4212-a25c-3fb2258decf0",
   "metadata": {
    "tags": []
   },
   "outputs": [],
   "source": [
    "## Multiple Samples\n",
    "# Checkout everything in position 1 (*pos1)\n",
    "# [f.name for f in sorted(samplesPath.glob('*pos1*'))]\n",
    "\n",
    "# [len(f.name.split('_')) for f in sorted(samplesPath.glob('*pos1*'))]\n",
    "\n",
    "# [f.name for f in sorted(samplesPath.glob('*pos1*')) if len(f.name.split('_'))==9]\n",
    "\n",
    "# fixed_rpm_set = [f for f in sorted(samplesPath.glob('*')) if len(f.name.split('_'))==9]\n",
    "# variable_rpm_set = [f for f in sorted(samplesPath.glob('*')) if len(f.name.split('_'))==10]\n",
    "\n",
    "# len(fixed_rpm_set)"
   ]
  },
  {
   "cell_type": "markdown",
   "id": "1d66db46",
   "metadata": {},
   "source": [
    "### Metadata Scheme Definition\n",
    "- 11-BM (CMS) parses metadata from filename strings, here is where you setup the parsing logic."
   ]
  },
  {
   "cell_type": "markdown",
   "id": "d79e5f57",
   "metadata": {
    "vscode": {
     "languageId": "bat"
    }
   },
   "source": [
    "#### Single File Set"
   ]
  },
  {
   "cell_type": "code",
   "execution_count": null,
   "id": "0207bfec",
   "metadata": {},
   "outputs": [],
   "source": [
    "# Parameters\n",
    "delim = '_'\n",
    "metadata_list = ['sample', 'material', 'filter', \n",
    "                 'concentration', 'flowrate', 'substrate', \n",
    "                 'solution_volume', 'runNumber', 'global_time', \n",
    "                 'xpos', 'incident_angle', 'exposure_time', \n",
    "                 'scan_id', 'scan_number', 'detector']\n",
    "\n",
    "# Assume `file_set` is a list of Path objects (or strings) from globbing\n",
    "# Example: file_set = sorted(rawPath.glob(samp_delim))\n",
    "fi_fileset = sorted(rawPath.glob(samp_delim))  # Replace as appropriate\n",
    "\n",
    "# Process the first file\n",
    "if fi_fileset:\n",
    "    first_file = fi_fileset[0]\n",
    "    fields = first_file.name.split(delim)\n",
    "\n",
    "    print(f\"Metadata for file: {first_file.name}\")\n",
    "    if len(fields) != len(metadata_list):\n",
    "        print(f\"Mismatch: {len(fields)} fields in filename vs {len(metadata_list)} expected metadata labels\")\n",
    "    else:\n",
    "        metadata_mapping = dict(zip(metadata_list, fields))\n",
    "        for k, v in metadata_mapping.items():\n",
    "            print(f\"  {k}: {v}\")\n",
    "else:\n",
    "    print(\"No files found matching the pattern.\")\n"
   ]
  },
  {
   "cell_type": "markdown",
   "id": "3d286969",
   "metadata": {},
   "source": [
    "#### Multiple File Sets"
   ]
  },
  {
   "cell_type": "code",
   "execution_count": null,
   "id": "321cb55f-ffa4-4a6b-b511-56d6a164dc0e",
   "metadata": {},
   "outputs": [],
   "source": [
    "# # set ex situ metadata filename naming schemes:\n",
    "# fixed_rpm_md_naming_scheme =    ['project', 'material', 'solvent', 'detector_pos', 'sample_pos', \n",
    "#                                  'incident_angle', 'exposure_time', 'scan_id', 'detector']\n",
    "# variable_rpm_md_naming_scheme = ['project', 'material', 'solvent', 'rpm', 'detector_pos', 'sample_pos', \n",
    "#                                  'incident_angle', 'exposure_time', 'scan_id', 'detector']\n",
    "\n",
    "# # A way to check our naming schemes to make sure they're right:\n",
    "# delim = '_'\n",
    "# file_sets =    [            fixed_rpm_set,               variable_rpm_set]\n",
    "# file_schemes = [fixed_rpm_md_naming_scheme, variable_rpm_md_naming_scheme]\n",
    "\n",
    "# for file_set, file_scheme in zip(file_sets, file_schemes):\n",
    "#     first_filename = sorted(file_set)[0].name\n",
    "#     print(f'\\nFilename: {first_filename}')\n",
    "#     first_filename_list = first_filename.split(delim)\n",
    "#     for tup in zip(file_scheme, first_filename_list):\n",
    "#         print(tup)"
   ]
  },
  {
   "cell_type": "markdown",
   "id": "deae88e6",
   "metadata": {},
   "source": [
    "### Initialize Data Loader Objects\n",
    "- This is where you load the data, if you didn't setup the metadata parsing correctly, this will fail."
   ]
  },
  {
   "cell_type": "markdown",
   "id": "e5f1e63e",
   "metadata": {},
   "source": [
    "#### Single File Set Example"
   ]
  },
  {
   "cell_type": "code",
   "execution_count": null,
   "id": "c224a88b",
   "metadata": {},
   "outputs": [],
   "source": [
    "fi_loader = phs.load.CMSGIWAXSLoader(md_naming_scheme=metadata_list)"
   ]
  },
  {
   "cell_type": "markdown",
   "id": "7490a55f",
   "metadata": {},
   "source": [
    "#### Multiple File Sets Example"
   ]
  },
  {
   "cell_type": "code",
   "execution_count": null,
   "id": "a486d1f7-236f-4e16-8342-0bf1f4a2cce9",
   "metadata": {
    "tags": []
   },
   "outputs": [],
   "source": [
    "# # Initalize CMSGIWAXSLoader objects with the above naming schemes\n",
    "# fixed_rpm_loader = phs.load.CMSGIWAXSLoader(md_naming_scheme=fixed_rpm_md_naming_scheme)\n",
    "# variable_rpm_loader = phs.load.CMSGIWAXSLoader(md_naming_scheme=variable_rpm_md_naming_scheme)"
   ]
  },
  {
   "cell_type": "markdown",
   "id": "89d72a19-8729-4ebd-914a-9cba20016a72",
   "metadata": {
    "tags": []
   },
   "source": [
    "## Data Processing\n",
    "- Here is where the integration, masking, q-space conversion, etc. happens.\n",
    "- Break this section up however makes sense for your data."
   ]
  },
  {
   "cell_type": "markdown",
   "id": "1c2d9332",
   "metadata": {},
   "source": [
    "### PyFAI FiberIntegrator Example\n",
    "- pyFAI 2025.03 updated their package to handle grazing incidence (GI) geometries. Due to this, we are moving away from using pygix for GI geometries, as pygix is deprecated and no longer supported."
   ]
  },
  {
   "cell_type": "markdown",
   "id": "fa5e2226",
   "metadata": {},
   "source": [
    "#### Initialize Integrator"
   ]
  },
  {
   "cell_type": "code",
   "execution_count": null,
   "id": "80595f5c",
   "metadata": {},
   "outputs": [],
   "source": [
    "import importlib.util\n",
    "from pathlib import Path\n",
    "import warnings\n",
    "\n",
    "# (optional) mute PyHyperScattering-wide UserWarnings\n",
    "warnings.filterwarnings(\"ignore\",\n",
    "    \".*Unable to load optional dependency.*\",\n",
    "    category=UserWarning,\n",
    "    module=\"PyHyperScattering\"\n",
    ")\n",
    "\n",
    "# Path to your local file\n",
    "file_path = Path(\"/Users/keithwhite/repos/PyHyperScattering/src/\"\n",
    "                 \"PyHyperScattering/PFFIGeneralIntegrator.py\")\n",
    "\n",
    "spec = importlib.util.spec_from_file_location(\"local_pffig\", str(file_path))\n",
    "local_pffig = importlib.util.module_from_spec(spec)\n",
    "spec.loader.exec_module(local_pffig)\n",
    "\n",
    "# Grab the class\n",
    "PFFIGeneralIntegrator = local_pffig.PFFIGeneralIntegrator\n",
    "\n",
    "# Test it\n",
    "print(PFFIGeneralIntegrator)\n"
   ]
  },
  {
   "cell_type": "code",
   "execution_count": null,
   "id": "d633897e",
   "metadata": {},
   "outputs": [],
   "source": [
    "fi_integrator = PFFIGeneralIntegrator(\n",
    "    geomethod='ponifile',\n",
    "    ponifile=poniFile,\n",
    "    # maskmethod='edf',\n",
    "    # maskpath=maskFile,\n",
    "    sample_orientation=4,\n",
    "    incident_angle=0.3,\n",
    "    tilt_angle=0,\n",
    "    split_pixels=True)\n",
    "\n",
    "# ## If/when this is integrated into the actual workflow and isn't local.\n",
    "# fi_integrator = phs.integrate.PFFIGeneralIntegrator(geomethod = 'ponifile',\n",
    "#                                       ponifile=poniFile,\n",
    "#                                       sample_orientation=1,\n",
    "#                                       incident_angle=0.3,\n",
    "#                                       tilt_angle=0)"
   ]
  },
  {
   "cell_type": "markdown",
   "id": "1803c444",
   "metadata": {},
   "source": [
    "#### Initialize CMSGIWAXS Util Object\n",
    "- Pass the ordered file set, loader object, and integrator object."
   ]
  },
  {
   "cell_type": "code",
   "execution_count": null,
   "id": "5db1875a",
   "metadata": {},
   "outputs": [],
   "source": [
    "util = phs.util.IntegrationUtils.CMSGIWAXS(sorted(fi_fileset), \n",
    "                                           fi_loader, \n",
    "                                           fi_integrator)\n",
    "raw_DS, recip_DS = util.single_images_to_dataset()\n"
   ]
  },
  {
   "cell_type": "markdown",
   "id": "c827ec6c",
   "metadata": {},
   "source": [
    "#### Plot to Validate Inputs"
   ]
  },
  {
   "cell_type": "code",
   "execution_count": null,
   "id": "e63f8fea",
   "metadata": {},
   "outputs": [],
   "source": [
    "%matplotlib tk\n",
    "\n",
    "for DA in tqdm(recip_DS.data_vars.values()):\n",
    "    plt.close('all')\n",
    "    cmin, cmax = DA.quantile(0.01), DA.quantile(0.99)\n",
    "\n",
    "    fig, ax = plt.subplots(figsize=(8, 4))\n",
    "    DA.plot.imshow(\n",
    "        ax=ax,\n",
    "        cmap=cmap,\n",
    "        norm=plt.Normalize(cmin, cmax),\n",
    "        x='qip',\n",
    "        y='qoop'\n",
    "    )\n",
    "    ax.set_aspect('equal')\n",
    "    ax.set_title(\n",
    "        f\"{DA.material}, incident={DA.incident_angle}, scan={DA.scan_id}\"\n",
    "    )\n",
    "    ax.set_ylim(bottom=0)\n",
    "\n",
    "    plt.show()"
   ]
  },
  {
   "cell_type": "markdown",
   "id": "0c33b004",
   "metadata": {},
   "source": [
    "#### Testing: Compare to PG Integrator"
   ]
  },
  {
   "cell_type": "code",
   "execution_count": null,
   "id": "2184e1eb",
   "metadata": {},
   "outputs": [],
   "source": [
    "import pygix\n",
    "pg_integrator = phs.integrate.PGGeneralIntegrator(geomethod = 'ponifile',\n",
    "                                    ponifile = poniFile,\n",
    "                                    maskmethod='edf',\n",
    "                                    maskpath=maskFile,\n",
    "                                    output_space = 'recip')\n",
    "\n",
    "util = phs.util.IntegrationUtils.CMSGIWAXS(sorted(fi_fileset), fi_loader, pg_integrator)\n",
    "raw_DS, recip_DS = util.single_images_to_dataset()  # run function \n",
    "display(recip_DS)\n",
    "\n",
    "for DA in tqdm(recip_DS.data_vars.values()):\n",
    "    cmin, cmax = DA.quantile(0.01), DA.quantile(0.99)\n",
    "\n",
    "    fig, ax = plt.subplots(figsize=(8, 4))\n",
    "    DA.plot.imshow(\n",
    "        ax=ax,\n",
    "        cmap=cmap,\n",
    "        norm=plt.Normalize(cmin, cmax),\n",
    "        x='q_xy',\n",
    "        y='q_z'\n",
    "    )\n",
    "    ax.set_aspect('equal')\n",
    "    ax.set_title(\n",
    "        f\"{DA.material}, incident={DA.incident_angle}, scan={DA.scan_id}\"\n",
    "    )\n",
    "    ax.set_ylim(bottom=0)\n",
    "    plt.show()\n",
    "    plt.close(fig)"
   ]
  },
  {
   "cell_type": "markdown",
   "id": "f6b80577",
   "metadata": {},
   "source": [
    "### Using General Integrator (pyFAI)"
   ]
  },
  {
   "cell_type": "markdown",
   "id": "3c42033d-6f6b-460f-8b3d-b888b9b61df3",
   "metadata": {
    "tags": []
   },
   "source": [
    "#### Variable RPM file set"
   ]
  },
  {
   "cell_type": "markdown",
   "id": "aca683fa-c51d-4dde-9af5-bb3ff16f73df",
   "metadata": {
    "tags": []
   },
   "source": [
    "##### Intialize integrators"
   ]
  },
  {
   "cell_type": "code",
   "execution_count": null,
   "id": "9371713d-e110-48f6-ada6-a1ee78bf3747",
   "metadata": {
    "tags": []
   },
   "outputs": [],
   "source": [
    "variable_rpm_recip_integrator = phs.integrate.PGGeneralIntegrator(geomethod = 'ponifile',\n",
    "                                                                  ponifile = poniFile,\n",
    "                                                                  output_space = 'recip')\n",
    "variable_rpm_caked_integrator = phs.integrate.PGGeneralIntegrator(geomethod = 'ponifile',\n",
    "                                                                  ponifile = poniFile,\n",
    "                                                                  output_space = 'caked')"
   ]
  },
  {
   "cell_type": "markdown",
   "id": "9d168daa-2be6-49c7-abff-a919f8e51794",
   "metadata": {
    "tags": []
   },
   "source": [
    "##### Generate, check, save: recip Dataset"
   ]
  },
  {
   "cell_type": "code",
   "execution_count": null,
   "id": "40a9b955-c829-4235-a000-3f604fc9a174",
   "metadata": {
    "tags": []
   },
   "outputs": [],
   "source": [
    "# Use the single_images_to_dataset utility function to pygix transform all raw files in an indexable list\n",
    "# Located in the IntegrationUtils script, CMSGIWAXS class:\n",
    "\n",
    "# Initalize CMSGIWAXS util object\n",
    "util = phs.util.IntegrationUtils.CMSGIWAXS(sorted(variable_rpm_set), variable_rpm_loader, variable_rpm_recip_integrator)\n",
    "raw_DS, recip_DS = util.single_images_to_dataset()  # run function \n",
    "display(recip_DS)"
   ]
  },
  {
   "cell_type": "code",
   "execution_count": null,
   "id": "d7772d3a-fab7-44a5-b39d-96256ce1f934",
   "metadata": {
    "tags": []
   },
   "outputs": [],
   "source": [
    "# # Example of a quick plot check if desired here:\n",
    "# for DA in tqdm(list(recip_DS.data_vars.values())[::8]):   \n",
    "#     cmin = DA.quantile(0.01)\n",
    "#     cmax = DA.quantile(0.99)\n",
    "    \n",
    "#     ax = DA.sel(q_xy=slice(-1.1, 2.1), q_z=slice(-0.05, 2.4)).plot.imshow(cmap=cmap, norm=plt.Normalize(cmin, cmax), figsize=(8,4))\n",
    "#     ax.axes.set(aspect='equal', title=f'{DA.material}, incident angle: {DA.incident_angle}, scan id: {DA.scan_id}')\n",
    "#     plt.show()\n",
    "#     plt.close('all')"
   ]
  },
  {
   "cell_type": "code",
   "execution_count": null,
   "id": "5419c7e6-919c-4d3c-972f-6b35fe69fac4",
   "metadata": {
    "tags": []
   },
   "outputs": [],
   "source": [
    "# # Saving dataset with xarray's to_zarr() method:\n",
    "# # General structure below:\n",
    "\n",
    "# # Set where to save file and what to name it\n",
    "# savePath = outPath.joinpath('testing_zarrs')\n",
    "# savePath.mkdir(exist_ok=True)\n",
    "# savename = 'custom_save_name.zarr'\n",
    "\n",
    "# # Save it\n",
    "# recip_DS.to_zarr(savePath.joinpath(savename))"
   ]
  },
  {
   "cell_type": "markdown",
   "id": "36ff2faa-7c5f-4674-ab07-50a08d77d37d",
   "metadata": {
    "tags": []
   },
   "source": [
    "##### generate, check, save: caked Dataset"
   ]
  },
  {
   "cell_type": "code",
   "execution_count": null,
   "id": "e22bf04b-a288-484d-be79-c27156b57999",
   "metadata": {},
   "outputs": [],
   "source": [
    "# Use the single_images_to_dataset utility function to pygix transform all raw files in an indexable list\n",
    "# Located in the IntegrationUtils script, CMSGIWAXS class:\n",
    "\n",
    "# Initalize CMSGIWAXS util object\n",
    "util = phs.util.IntegrationUtils.CMSGIWAXS(sorted(variable_rpm_set), variable_rpm_loader, variable_rpm_caked_integrator)\n",
    "raw_DS, caked_DS = util.single_images_to_dataset()  # run function \n",
    "display(caked_DS)"
   ]
  },
  {
   "cell_type": "code",
   "execution_count": null,
   "id": "6eea399d-80ce-4c16-96f5-9d271868a612",
   "metadata": {},
   "outputs": [],
   "source": [
    "# Example of a quick plot check if desired here:\n",
    "for DA in tqdm(list(caked_DS.data_vars.values())[::8]):   \n",
    "    cmin = DA.quantile(0.01)\n",
    "    cmax = DA.quantile(0.99)\n",
    "    \n",
    "    ax = DA.plot.imshow(cmap=cmap, norm=plt.Normalize(cmin, cmax), figsize=(8,4))\n",
    "    ax.axes.set(title=f'{DA.material}, incident angle: {DA.incident_angle}, scan id: {DA.scan_id}')\n",
    "    plt.show()\n",
    "    plt.close('all')"
   ]
  },
  {
   "cell_type": "code",
   "execution_count": null,
   "id": "51ab45b4-b88a-480c-9f82-ef2821c45482",
   "metadata": {
    "tags": []
   },
   "outputs": [],
   "source": [
    "# # Saving dataset with xarray's to_zarr() method:\n",
    "# # General structure below:\n",
    "\n",
    "# # Set where to save file and what to name it\n",
    "# savePath = outPath.joinpath('testing_zarrs')\n",
    "# savePath.mkdir(exist_ok=True)\n",
    "# savename = 'custom_save_name.zarr'\n",
    "\n",
    "# # Save it\n",
    "# caked_DS.to_zarr(savePath.joinpath(savename))"
   ]
  },
  {
   "cell_type": "markdown",
   "id": "f1e89c23-74e6-4857-8668-e037b0f66c97",
   "metadata": {},
   "source": [
    "#### Fixed RPM file set"
   ]
  },
  {
   "cell_type": "code",
   "execution_count": null,
   "id": "e956d4de-1284-4d5f-b874-49bd3afa52e6",
   "metadata": {
    "scrolled": true,
    "tags": []
   },
   "outputs": [],
   "source": [
    "# would be same code as above for another file set"
   ]
  },
  {
   "cell_type": "markdown",
   "id": "ad98a0c7-37c9-42c1-84c3-caca50c454d6",
   "metadata": {},
   "source": [
    "## Not fully implemented"
   ]
  },
  {
   "cell_type": "code",
   "execution_count": null,
   "id": "08506682-c5ee-4e83-9a52-c73af7e71e6b",
   "metadata": {},
   "outputs": [],
   "source": [
    "def poni_centers(poniFile, pix_size=0.000172):\n",
    "    \"\"\"\n",
    "    Returns poni center value and the corresponding pixel position. Default pixel size is 172 microns (Pilatus 1M)\n",
    "    \n",
    "    Inputs: poniFile as pathlib path object to the poni file\n",
    "    Outputs: ((poni1, y_center), (poni2, x_center))\n",
    "    \"\"\"\n",
    "    \n",
    "    with poniFile.open('r') as f:\n",
    "        lines = list(f.readlines())\n",
    "    poni1_str = lines[6]\n",
    "    poni2_str = lines[7]\n",
    "\n",
    "    poni1 = float(poni1_str.split(' ')[1])\n",
    "    poni2 = float(poni2_str.split(' ')[1])\n",
    "\n",
    "    y_center = poni1 / pix_size\n",
    "    x_center = poni2 / pix_size\n",
    "        \n",
    "    return ((poni1, y_center), (poni2, x_center))\n",
    "\n",
    "poni_y, poni_x = poni_centers(poniFile)\n",
    "display(poni_y)\n",
    "display(poni_x)"
   ]
  },
  {
   "cell_type": "markdown",
   "id": "8bb850be-2166-49ca-893d-6ff46e34afad",
   "metadata": {
    "tags": []
   },
   "source": [
    "### Yoneda check:\n",
    "This can be used as a way to verify / refine your correct beam center y position. The yoneda peak should always appear at a q value corresponding to your incident angle plus your film's critical angle:"
   ]
  },
  {
   "cell_type": "code",
   "execution_count": null,
   "id": "3233995c-839f-4b02-b3f9-65bc00d41e63",
   "metadata": {},
   "outputs": [],
   "source": [
    "def yoneda_qz(wavelength, alpha_crit, alpha_incidents):\n",
    "    \"\"\"Calculate the yoneda qz values given the wavelength, critical angle, and incident angle (in degrees)\"\"\"\n",
    "    qz_inv_meters = ((4 * np.pi) / (wavelength)) * (np.sin(np.deg2rad((alpha_incidents + alpha_crit)/2)))\n",
    "    qz_inv_angstroms = qz_inv_meters / 1e10\n",
    "    return qz_inv_angstroms\n",
    "\n",
    "\n",
    "wavelength = 9.762535309700809e-11  # 12.7 keV\n",
    "alpha_crit = 0.11  # organic film critical angle\n",
    "alpha_incidents = np.array([0.08, 0.1, 0.12, 0.15])  # incident angle(s)\n",
    "\n",
    "yoneda_angles = alpha_incidents + alpha_crit\n",
    "\n",
    "yoneda_qz(wavelength, alpha_crit, alpha_incidents)  # expected yoneda qz positions"
   ]
  },
  {
   "cell_type": "code",
   "execution_count": null,
   "id": "84692bd3-0b35-4f69-98db-416592d03dda",
   "metadata": {},
   "outputs": [],
   "source": [
    "def select_attrs(data_arrays_iterable, selected_attrs_dict):\n",
    "    \"\"\"\n",
    "    Selects data arrays whose attributes match the specified values.\n",
    "\n",
    "    Parameters:\n",
    "    data_arrays_iterable: Iterable of xarray.DataArray objects.\n",
    "    selected_attrs_dict: Dictionary where keys are attribute names and \n",
    "                         values are the attributes' desired values.\n",
    "\n",
    "    Returns:\n",
    "    List of xarray.DataArray objects that match the specified attributes.\n",
    "    \"\"\"    \n",
    "    sublist = list(data_arrays_iterable)\n",
    "    \n",
    "    for attr_name, attr_values in selected_attrs_dict.items():\n",
    "        sublist = [da for da in sublist if da.attrs[attr_name] in attr_values]\n",
    "                \n",
    "    return sublist"
   ]
  },
  {
   "cell_type": "code",
   "execution_count": null,
   "id": "1c0bcd25-8b2f-439f-a2bd-af0021a3a102",
   "metadata": {
    "tags": []
   },
   "outputs": [],
   "source": [
    "# 2D reciprocal space cartesian plots\n",
    "qxy_min = -1.1\n",
    "qxy_max = 2.1\n",
    "qz_min = -0.01\n",
    "qz_max = 2.2\n",
    "\n",
    "selected_attrs_dict = {'material': ['PM6'], 'solvent': ['CBCN']}\n",
    "# selected_attrs_dict = {}\n",
    "\n",
    "selected_DAs = select_attrs(fixed_recip_DS.data_vars.values(), selected_attrs_dict)\n",
    "for DA in tqdm(selected_DAs):\n",
    "    # Slice data for selected q ranges (will need to rename q_xy if dimensions are differently named)\n",
    "    sliced_DA = DA.sel(q_xy=slice(qxy_min, qxy_max), q_z=slice(qz_min, qz_max))\n",
    "    \n",
    "    real_min = float(sliced_DA.compute().quantile(0.05))\n",
    "    cmin = 1 if real_min < 1 else real_min\n",
    "\n",
    "    cmax = float(sliced_DA.compute().quantile(0.997))   \n",
    "    \n",
    "    # Plot\n",
    "    ax = sliced_DA.plot.imshow(cmap=cmap, norm=plt.Normalize(cmin, cmax), interpolation='antialiased', figsize=(5.5,3.3))\n",
    "    ax.colorbar.set_label('Intensity [arb. units]', rotation=270, labelpad=15)\n",
    "    # ax.axes.set(aspect='equal', title=f'Cartesian Plot: {DA.material} {DA.solvent} {DA.rpm}, {float(DA.incident_angle[2:])}° Incidence',\n",
    "    #             xlabel='q$_{xy}$ [Å$^{-1}$]', ylabel='q$_z$ [Å$^{-1}$]')\n",
    "    ax.axes.set(aspect='equal', title=f'Cartesian Plot: {DA.material} {DA.solvent}, {float(DA.incident_angle[2:])}° Incidence',\n",
    "                xlabel='q$_{xy}$ [Å$^{-1}$]', ylabel='q$_z$ [Å$^{-1}$]')\n",
    "    ax.figure.set(tight_layout=True, dpi=130)\n",
    "    \n",
    "    # ax.figure.savefig(savePath.joinpath(f'{DA.material}-{DA.solvent}-{DA.rpm}_qxy{qxy_min}to{qxy_max}_qz{qz_min}to{qz_max}_{DA.incident_angle}.png'), dpi=150)\n",
    "    # ax.figure.savefig(savePath.joinpath(f'{DA.material}-{DA.solvent}_qxy{qxy_min}to{qxy_max}_qz{qz_min}to{qz_max}_{DA.incident_angle}.png'), dpi=150)\n",
    "\n",
    "    plt.show()\n",
    "    plt.close('all')"
   ]
  },
  {
   "cell_type": "code",
   "execution_count": null,
   "id": "a956c001-a512-42bb-b390-0375bf84c2fb",
   "metadata": {
    "tags": []
   },
   "outputs": [],
   "source": [
    "# Yoneda peak linecut check\n",
    "qxy_min = 0.22\n",
    "qxy_max = 2\n",
    "qz_min = -0.02\n",
    "qz_max = 0.06\n",
    "\n",
    "selected_DAs = select_attrs(fixed_recip_DS.data_vars.values(), selected_attrs_dict)\n",
    "for DA in tqdm(selected_DAs):\n",
    "    # Slice data for selected q ranges (will need to rename q_xy if dimensions are differently named)\n",
    "    sliced_DA = DA.sel(q_xy=slice(qxy_min, qxy_max), q_z=slice(qz_min, qz_max))\n",
    "    qz_integrated_DA = sliced_DA.sum('q_xy')\n",
    "    \n",
    "    # Plot\n",
    "    qz_integrated_DA.plot.line(label=DA.incident_angle)\n",
    "    \n",
    "plt.legend()\n",
    "plt.grid(visible=True, which='major', axis='x')\n",
    "plt.show()"
   ]
  },
  {
   "cell_type": "code",
   "execution_count": null,
   "id": "5315e1d2-82c5-4c47-adf7-7b8c2f294b64",
   "metadata": {
    "tags": []
   },
   "outputs": [],
   "source": [
    "chi_min = 60\n",
    "chi_max = None\n",
    "\n",
    "selected_DAs = select_attrs(fixed_caked_DS.data_vars.values(), selected_attrs_dict)\n",
    "for DA in tqdm(selected_DAs):\n",
    "    # Slice dataarray to select plotting region \n",
    "    sliced_DA = DA.sel(chi=slice(chi_min,chi_max))\n",
    "    \n",
    "    # real_min = float(DA.sel(q_xy=slice(-0.5, -0.1), q_z=slice(0.1, 0.4)).compute().quantile(1e-3))\n",
    "    real_min = float(DA.compute().quantile(0.05))\n",
    "    cmin = 1 if real_min < 1 else real_min\n",
    "    \n",
    "    # cmax = float(DA.sel(q_xy=slice(-0.5, -0.1), q_z=slice(0.1, 2)).compute().quantile(1))   \n",
    "    cmax = float(DA.compute().quantile(0.999))  \n",
    "    \n",
    "    # Plot sliced dataarray\n",
    "    ax = sliced_DA.plot.imshow(cmap=cmap, norm=plt.Normalize(cmin, 10), figsize=(5,4), interpolation='antialiased')  # plot, optional parameter interpolation='antialiased' for image smoothing\n",
    "    ax.colorbar.set_label('Intensity [arb. units]', rotation=270, labelpad=15)  # set colorbar label & parameters \n",
    "    ax.axes.set(title=f'Polar Plot: {DA.material} {DA.solvent}, {float(DA.incident_angle[2:])}° Incidence',\n",
    "                xlabel='q$_r$ [Å$^{-1}$]', ylabel='$\\chi$ [°]')  # set title, axis labels, misc\n",
    "    ax.figure.set(tight_layout=True, dpi=130)  # Adjust figure dpi & plotting style\n",
    "    \n",
    "    plt.show()  # Comment to mute plotting output\n",
    "    \n",
    "    # Uncomment below line and set savepath/savename for saving plots, I usually like to check \n",
    "    # ax.figure.savefig(outPath.joinpath('PM6-Y6set_waxs', f'polar-2D_{DA.sample_id}_{chi_min}to{chi_max}chi_{DA.incident_angle}.png'), dpi=150)\n",
    "    plt.close('all')"
   ]
  },
  {
   "cell_type": "code",
   "execution_count": null,
   "id": "7d4a0f5c-31cb-4cba-be2e-4cad27d273df",
   "metadata": {},
   "outputs": [],
   "source": []
  }
 ],
 "metadata": {
  "kernelspec": {
   "display_name": "pyhyper",
   "language": "python",
   "name": "python3"
  },
  "language_info": {
   "codemirror_mode": {
    "name": "ipython",
    "version": 3
   },
   "file_extension": ".py",
   "mimetype": "text/x-python",
   "name": "python",
   "nbconvert_exporter": "python",
   "pygments_lexer": "ipython3",
   "version": "3.11.12"
  }
 },
 "nbformat": 4,
 "nbformat_minor": 5
}
